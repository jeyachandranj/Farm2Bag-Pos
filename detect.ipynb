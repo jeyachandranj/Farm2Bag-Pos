{
 "cells": [
  {
   "cell_type": "code",
   "execution_count": 1,
   "id": "f4402ccb",
   "metadata": {
    "_cell_guid": "b1076dfc-b9ad-4769-8c92-a6c4dae69d19",
    "_uuid": "8f2839f25d086af736a60e9eeb907d3b93b6e0e5",
    "execution": {
     "iopub.execute_input": "2021-11-02T04:12:57.715920Z",
     "iopub.status.busy": "2021-11-02T04:12:57.714298Z",
     "iopub.status.idle": "2021-11-02T04:12:59.058276Z",
     "shell.execute_reply": "2021-11-02T04:12:59.059163Z",
     "shell.execute_reply.started": "2021-11-02T04:08:50.319628Z"
    },
    "papermill": {
     "duration": 1.370405,
     "end_time": "2021-11-02T04:12:59.059493",
     "exception": false,
     "start_time": "2021-11-02T04:12:57.689088",
     "status": "completed"
    },
    "tags": []
   },
   "outputs": [],
   "source": [
    "import numpy as np \n",
    "import pandas as pd \n",
    "\n",
    "import os\n",
    "for dirname, _, filenames in os.walk('D:/Saikat Sheet/Datasets/Fruit_Vegetable'):\n",
    "    for filename in filenames:\n",
    "        print(os.path.join(dirname, filename))"
   ]
  },
  {
   "cell_type": "code",
   "execution_count": 2,
   "id": "3a80f008",
   "metadata": {
    "execution": {
     "iopub.execute_input": "2021-11-02T04:12:59.131000Z",
     "iopub.status.busy": "2021-11-02T04:12:59.129810Z",
     "iopub.status.idle": "2021-11-02T04:13:04.578664Z",
     "shell.execute_reply": "2021-11-02T04:13:04.577747Z",
     "shell.execute_reply.started": "2021-11-02T04:10:42.022652Z"
    },
    "papermill": {
     "duration": 5.486991,
     "end_time": "2021-11-02T04:13:04.578852",
     "exception": false,
     "start_time": "2021-11-02T04:12:59.091861",
     "status": "completed"
    },
    "tags": []
   },
   "outputs": [],
   "source": [
    "import numpy as np\n",
    "import pandas as pd\n",
    "from pathlib import Path\n",
    "import os.path\n",
    "import matplotlib.pyplot as plt\n",
    "import tensorflow as tf\n",
    "from tensorflow.keras.utils import load_img,img_to_array\n",
    "print(tf.__version__)"
   ]
  },
  {
   "cell_type": "code",
   "execution_count": 4,
   "id": "4dffca75",
   "metadata": {
    "execution": {
     "iopub.execute_input": "2021-11-02T04:13:04.639711Z",
     "iopub.status.busy": "2021-11-02T04:13:04.639013Z",
     "iopub.status.idle": "2021-11-02T04:13:04.704474Z",
     "shell.execute_reply": "2021-11-02T04:13:04.703891Z",
     "shell.execute_reply.started": "2021-11-02T04:10:53.286987Z"
    },
    "papermill": {
     "duration": 0.097465,
     "end_time": "2021-11-02T04:13:04.704628",
     "exception": false,
     "start_time": "2021-11-02T04:13:04.607163",
     "status": "completed"
    },
    "tags": []
   },
   "outputs": [],
   "source": [
    "# Create a list with the filepaths for training and testing\n",
    "train_dir = Path('D:/Saikat Sheet/Datasets/Fruit_Vegetable/train')\n",
    "train_filepaths = list(train_dir.glob(r'**/*.jpg'))"
   ]
  },
  {
   "cell_type": "code",
   "execution_count": 5,
   "id": "62e9db13",
   "metadata": {
    "execution": {
     "iopub.execute_input": "2021-11-02T04:13:04.763397Z",
     "iopub.status.busy": "2021-11-02T04:13:04.762653Z",
     "iopub.status.idle": "2021-11-02T04:13:04.797643Z",
     "shell.execute_reply": "2021-11-02T04:13:04.798136Z",
     "shell.execute_reply.started": "2021-11-02T04:10:56.870550Z"
    },
    "papermill": {
     "duration": 0.065625,
     "end_time": "2021-11-02T04:13:04.798361",
     "exception": false,
     "start_time": "2021-11-02T04:13:04.732736",
     "status": "completed"
    },
    "tags": []
   },
   "outputs": [],
   "source": [
    "test_dir = Path('D:/Saikat Sheet/Datasets/Fruit_Vegetable/test')\n",
    "test_filepaths = list(test_dir.glob(r'**/*.jpg'))"
   ]
  },
  {
   "cell_type": "code",
   "execution_count": 6,
   "id": "d9efbe8a",
   "metadata": {
    "execution": {
     "iopub.execute_input": "2021-11-02T04:13:04.857921Z",
     "iopub.status.busy": "2021-11-02T04:13:04.857316Z",
     "iopub.status.idle": "2021-11-02T04:13:04.891899Z",
     "shell.execute_reply": "2021-11-02T04:13:04.892424Z",
     "shell.execute_reply.started": "2021-11-02T04:11:08.545135Z"
    },
    "papermill": {
     "duration": 0.065947,
     "end_time": "2021-11-02T04:13:04.892592",
     "exception": false,
     "start_time": "2021-11-02T04:13:04.826645",
     "status": "completed"
    },
    "tags": []
   },
   "outputs": [],
   "source": [
    "val_dir = Path('D:/Saikat Sheet/Datasets/Fruit_Vegetable/validation')\n",
    "val_filepaths = list(test_dir.glob(r'**/*.jpg'))"
   ]
  },
  {
   "cell_type": "code",
   "execution_count": 7,
   "id": "e5f09b5c",
   "metadata": {
    "execution": {
     "iopub.execute_input": "2021-11-02T04:13:04.951015Z",
     "iopub.status.busy": "2021-11-02T04:13:04.950415Z",
     "iopub.status.idle": "2021-11-02T04:13:04.957036Z",
     "shell.execute_reply": "2021-11-02T04:13:04.957533Z",
     "shell.execute_reply.started": "2021-11-02T04:11:10.796825Z"
    },
    "papermill": {
     "duration": 0.037108,
     "end_time": "2021-11-02T04:13:04.957704",
     "exception": false,
     "start_time": "2021-11-02T04:13:04.920596",
     "status": "completed"
    },
    "tags": []
   },
   "outputs": [],
   "source": [
    "def image_processing(filepath):\n",
    "    \"\"\" Create a DataFrame with the filepath and the labels of the pictures\n",
    "    \"\"\"\n",
    "\n",
    "    labels = [str(filepath[i]).split(\"\\\\\")[-2] \\\n",
    "              for i in range(len(filepath))]\n",
    "\n",
    "    filepath = pd.Series(filepath, name='Filepath').astype(str)\n",
    "    labels = pd.Series(labels, name='Label')\n",
    "\n",
    "    # Concatenate filepaths and labels\n",
    "    df = pd.concat([filepath, labels], axis=1)\n",
    "\n",
    "    # Shuffle the DataFrame and reset index\n",
    "    df = df.sample(frac=1).reset_index(drop = True)\n",
    "    \n",
    "    return df"
   ]
  },
  {
   "cell_type": "code",
   "execution_count": 8,
   "id": "576b8db6",
   "metadata": {
    "execution": {
     "iopub.execute_input": "2021-11-02T04:13:05.033692Z",
     "iopub.status.busy": "2021-11-02T04:13:05.032983Z",
     "iopub.status.idle": "2021-11-02T04:13:05.042744Z",
     "shell.execute_reply": "2021-11-02T04:13:05.042101Z",
     "shell.execute_reply.started": "2021-11-02T04:11:22.983906Z"
    },
    "papermill": {
     "duration": 0.057696,
     "end_time": "2021-11-02T04:13:05.042885",
     "exception": false,
     "start_time": "2021-11-02T04:13:04.985189",
     "status": "completed"
    },
    "tags": []
   },
   "outputs": [],
   "source": [
    "train_df = image_processing(train_filepaths)\n",
    "test_df = image_processing(test_filepaths)\n",
    "val_df = image_processing(val_filepaths)"
   ]
  },
  {
   "cell_type": "code",
   "execution_count": 9,
   "id": "b3f17d3f",
   "metadata": {
    "execution": {
     "iopub.execute_input": "2021-11-02T04:13:05.114767Z",
     "iopub.status.busy": "2021-11-02T04:13:05.113836Z",
     "iopub.status.idle": "2021-11-02T04:13:05.117489Z",
     "shell.execute_reply": "2021-11-02T04:13:05.118083Z",
     "shell.execute_reply.started": "2021-11-02T04:11:26.152954Z"
    },
    "papermill": {
     "duration": 0.047893,
     "end_time": "2021-11-02T04:13:05.118332",
     "exception": false,
     "start_time": "2021-11-02T04:13:05.070439",
     "status": "completed"
    },
    "tags": []
   },
   "outputs": [],
   "source": [
    "print('-- Training set --\\n')\n",
    "print(f'Number of pictures: {train_df.shape[0]}\\n')\n",
    "print(f'Number of different labels: {len(train_df.Label.unique())}\\n')\n",
    "print(f'Labels: {train_df.Label.unique()}')"
   ]
  },
  {
   "cell_type": "code",
   "execution_count": 10,
   "id": "23a5eb3b",
   "metadata": {
    "execution": {
     "iopub.execute_input": "2021-11-02T04:13:05.181982Z",
     "iopub.status.busy": "2021-11-02T04:13:05.180982Z",
     "iopub.status.idle": "2021-11-02T04:13:05.192657Z",
     "shell.execute_reply": "2021-11-02T04:13:05.192121Z",
     "shell.execute_reply.started": "2021-11-02T04:11:29.331819Z"
    },
    "papermill": {
     "duration": 0.04621,
     "end_time": "2021-11-02T04:13:05.192799",
     "exception": false,
     "start_time": "2021-11-02T04:13:05.146589",
     "status": "completed"
    },
    "tags": []
   },
   "outputs": [],
   "source": [
    "train_df.head(5)"
   ]
  },
  {
   "cell_type": "code",
   "execution_count": 11,
   "id": "01595bc1",
   "metadata": {
    "execution": {
     "iopub.execute_input": "2021-11-02T04:13:05.284301Z",
     "iopub.status.busy": "2021-11-02T04:13:05.283627Z",
     "iopub.status.idle": "2021-11-02T04:13:16.097978Z",
     "shell.execute_reply": "2021-11-02T04:13:16.098495Z",
     "shell.execute_reply.started": "2021-11-02T04:11:31.820149Z"
    },
    "papermill": {
     "duration": 10.871892,
     "end_time": "2021-11-02T04:13:16.098658",
     "exception": false,
     "start_time": "2021-11-02T04:13:05.226766",
     "status": "completed"
    },
    "tags": []
   },
   "outputs": [],
   "source": [
    "# Create a DataFrame with one Label of each category\n",
    "df_unique = train_df.copy().drop_duplicates(subset=[\"Label\"]).reset_index()\n",
    "\n",
    "# Display some pictures of the dataset\n",
    "fig, axes = plt.subplots(nrows=6, ncols=6, figsize=(8, 7),\n",
    "                        subplot_kw={'xticks': [], 'yticks': []})\n",
    "\n",
    "for i, ax in enumerate(axes.flat):\n",
    "    ax.imshow(plt.imread(df_unique.Filepath[i]))\n",
    "    ax.set_title(df_unique.Label[i], fontsize = 12)\n",
    "plt.tight_layout(pad=0.5)\n",
    "plt.show()"
   ]
  },
  {
   "cell_type": "code",
   "execution_count": 11,
   "id": "726c5e0e",
   "metadata": {
    "execution": {
     "iopub.execute_input": "2021-11-02T04:13:16.181900Z",
     "iopub.status.busy": "2021-11-02T04:13:16.180971Z",
     "iopub.status.idle": "2021-11-02T04:13:16.183792Z",
     "shell.execute_reply": "2021-11-02T04:13:16.183306Z",
     "shell.execute_reply.started": "2021-11-02T04:11:43.469733Z"
    },
    "papermill": {
     "duration": 0.046673,
     "end_time": "2021-11-02T04:13:16.183927",
     "exception": false,
     "start_time": "2021-11-02T04:13:16.137254",
     "status": "completed"
    },
    "tags": []
   },
   "outputs": [],
   "source": [
    "train_generator = tf.keras.preprocessing.image.ImageDataGenerator(\n",
    "    preprocessing_function=tf.keras.applications.mobilenet_v2.preprocess_input\n",
    ")\n",
    "\n",
    "test_generator = tf.keras.preprocessing.image.ImageDataGenerator(\n",
    "    preprocessing_function=tf.keras.applications.mobilenet_v2.preprocess_input\n",
    ")"
   ]
  },
  {
   "cell_type": "code",
   "execution_count": 12,
   "id": "412ef763",
   "metadata": {
    "execution": {
     "iopub.execute_input": "2021-11-02T04:13:16.266539Z",
     "iopub.status.busy": "2021-11-02T04:13:16.265850Z",
     "iopub.status.idle": "2021-11-02T04:13:17.374402Z",
     "shell.execute_reply": "2021-11-02T04:13:17.374945Z",
     "shell.execute_reply.started": "2021-11-02T04:11:44.672539Z"
    },
    "papermill": {
     "duration": 1.153017,
     "end_time": "2021-11-02T04:13:17.375112",
     "exception": false,
     "start_time": "2021-11-02T04:13:16.222095",
     "status": "completed"
    },
    "tags": []
   },
   "outputs": [],
   "source": [
    "train_images = train_generator.flow_from_dataframe(\n",
    "    dataframe=train_df,\n",
    "    x_col='Filepath',\n",
    "    y_col='Label',\n",
    "    target_size=(224, 224),\n",
    "    color_mode='rgb',\n",
    "    class_mode='categorical',\n",
    "    batch_size=32,\n",
    "    shuffle=True,\n",
    "    seed=0,\n",
    "    rotation_range=30,\n",
    "    zoom_range=0.15,\n",
    "    width_shift_range=0.2,\n",
    "    height_shift_range=0.2,\n",
    "    shear_range=0.15,\n",
    "    horizontal_flip=True,\n",
    "    fill_mode=\"nearest\"\n",
    ")"
   ]
  },
  {
   "cell_type": "code",
   "execution_count": 13,
   "id": "fe1d1204",
   "metadata": {
    "execution": {
     "iopub.execute_input": "2021-11-02T04:13:17.463897Z",
     "iopub.status.busy": "2021-11-02T04:13:17.458664Z",
     "iopub.status.idle": "2021-11-02T04:13:17.576668Z",
     "shell.execute_reply": "2021-11-02T04:13:17.575749Z",
     "shell.execute_reply.started": "2021-11-02T04:11:45.920630Z"
    },
    "papermill": {
     "duration": 0.160302,
     "end_time": "2021-11-02T04:13:17.576817",
     "exception": false,
     "start_time": "2021-11-02T04:13:17.416515",
     "status": "completed"
    },
    "tags": []
   },
   "outputs": [],
   "source": [
    "val_images = train_generator.flow_from_dataframe(\n",
    "    dataframe=val_df,\n",
    "    x_col='Filepath',\n",
    "    y_col='Label',\n",
    "    target_size=(224, 224),\n",
    "    color_mode='rgb',\n",
    "    class_mode='categorical',\n",
    "    batch_size=32,\n",
    "    shuffle=True,\n",
    "    seed=0,\n",
    "    rotation_range=30,\n",
    "    zoom_range=0.15,\n",
    "    width_shift_range=0.2,\n",
    "    height_shift_range=0.2,\n",
    "    shear_range=0.15,\n",
    "    horizontal_flip=True,\n",
    "    fill_mode=\"nearest\"\n",
    ")"
   ]
  },
  {
   "cell_type": "code",
   "execution_count": 14,
   "id": "fe81357a",
   "metadata": {
    "execution": {
     "iopub.execute_input": "2021-11-02T04:13:17.662940Z",
     "iopub.status.busy": "2021-11-02T04:13:17.662340Z",
     "iopub.status.idle": "2021-11-02T04:13:17.671190Z",
     "shell.execute_reply": "2021-11-02T04:13:17.671770Z",
     "shell.execute_reply.started": "2021-11-02T04:11:48.652854Z"
    },
    "papermill": {
     "duration": 0.055483,
     "end_time": "2021-11-02T04:13:17.671924",
     "exception": false,
     "start_time": "2021-11-02T04:13:17.616441",
     "status": "completed"
    },
    "tags": []
   },
   "outputs": [],
   "source": [
    "test_images = test_generator.flow_from_dataframe(\n",
    "    dataframe=test_df,\n",
    "    x_col='Filepath',\n",
    "    y_col='Label',\n",
    "    target_size=(224, 224),\n",
    "    color_mode='rgb',\n",
    "    class_mode='categorical',\n",
    "    batch_size=32,\n",
    "    shuffle=False\n",
    ")"
   ]
  },
  {
   "cell_type": "code",
   "execution_count": 15,
   "id": "04c38c17",
   "metadata": {
    "execution": {
     "iopub.execute_input": "2021-11-02T04:13:17.755230Z",
     "iopub.status.busy": "2021-11-02T04:13:17.754369Z",
     "iopub.status.idle": "2021-11-02T04:13:19.035013Z",
     "shell.execute_reply": "2021-11-02T04:13:19.035515Z",
     "shell.execute_reply.started": "2021-11-02T04:11:53.021156Z"
    },
    "papermill": {
     "duration": 1.323729,
     "end_time": "2021-11-02T04:13:19.035695",
     "exception": false,
     "start_time": "2021-11-02T04:13:17.711966",
     "status": "completed"
    },
    "tags": []
   },
   "outputs": [],
   "source": [
    "pretrained_model = tf.keras.applications.MobileNetV2(\n",
    "    input_shape=(224, 224, 3),\n",
    "    include_top=False,\n",
    "    weights='imagenet',\n",
    "    pooling='avg'\n",
    ")\n",
    "pretrained_model.trainable = False"
   ]
  },
  {
   "cell_type": "code",
   "execution_count": 16,
   "id": "0ca682b9",
   "metadata": {
    "execution": {
     "iopub.execute_input": "2021-11-02T04:13:19.131815Z",
     "iopub.status.busy": "2021-11-02T04:13:19.131122Z",
     "iopub.status.idle": "2021-11-02T04:31:02.144919Z",
     "shell.execute_reply": "2021-11-02T04:31:02.145666Z"
    },
    "papermill": {
     "duration": 1063.069756,
     "end_time": "2021-11-02T04:31:02.146034",
     "exception": false,
     "start_time": "2021-11-02T04:13:19.076278",
     "status": "completed"
    },
    "tags": []
   },
   "outputs": [],
   "source": [
    "inputs = pretrained_model.input\n",
    "\n",
    "x = tf.keras.layers.Dense(128, activation='relu')(pretrained_model.output)\n",
    "x = tf.keras.layers.Dense(128, activation='relu')(x)\n",
    "\n",
    "outputs = tf.keras.layers.Dense(36, activation='softmax')(x)\n",
    "\n",
    "model = tf.keras.Model(inputs=inputs, outputs=outputs)\n",
    "\n",
    "model.compile(\n",
    "    optimizer='adam',\n",
    "    loss='categorical_crossentropy',\n",
    "    metrics=['accuracy']\n",
    ")\n",
    "\n",
    "history = model.fit(\n",
    "    train_images,\n",
    "    validation_data=val_images,\n",
    "    batch_size = 32,\n",
    "    epochs=5,\n",
    "    callbacks=[\n",
    "        tf.keras.callbacks.EarlyStopping(\n",
    "            monitor='val_loss',\n",
    "            patience=2,\n",
    "            restore_best_weights=True\n",
    "        )\n",
    "    ]\n",
    ")"
   ]
  },
  {
   "cell_type": "code",
   "execution_count": 17,
   "id": "a53e0525",
   "metadata": {
    "execution": {
     "iopub.execute_input": "2021-11-02T04:31:02.549385Z",
     "iopub.status.busy": "2021-11-02T04:31:02.548687Z",
     "iopub.status.idle": "2021-11-02T04:31:26.164039Z",
     "shell.execute_reply": "2021-11-02T04:31:26.163494Z",
     "shell.execute_reply.started": "2021-10-21T13:12:06.535104Z"
    },
    "papermill": {
     "duration": 23.821524,
     "end_time": "2021-11-02T04:31:26.164167",
     "exception": false,
     "start_time": "2021-11-02T04:31:02.342643",
     "status": "completed"
    },
    "tags": []
   },
   "outputs": [],
   "source": [
    "# Predict the label of the test_images\n",
    "pred = model.predict(test_images)\n",
    "pred = np.argmax(pred,axis=1)\n",
    "# Map the label\n",
    "labels = (train_images.class_indices)\n",
    "labels = dict((v,k) for k,v in labels.items())\n",
    "pred1 = [labels[k] for k in pred]\n",
    "pred1"
   ]
  },
  {
   "cell_type": "code",
   "execution_count": 18,
   "id": "8d8f87b3",
   "metadata": {
    "execution": {
     "iopub.execute_input": "2021-11-02T04:31:26.560442Z",
     "iopub.status.busy": "2021-11-02T04:31:26.559801Z",
     "iopub.status.idle": "2021-11-02T04:31:26.565525Z",
     "shell.execute_reply": "2021-11-02T04:31:26.566083Z",
     "shell.execute_reply.started": "2021-10-21T13:12:26.534404Z"
    },
    "papermill": {
     "duration": 0.207631,
     "end_time": "2021-11-02T04:31:26.566270",
     "exception": false,
     "start_time": "2021-11-02T04:31:26.358639",
     "status": "completed"
    },
    "tags": []
   },
   "outputs": [],
   "source": [
    "def output(location):\n",
    "    img=load_img(location,target_size=(224,224,3))\n",
    "    img=img_to_array(img)\n",
    "    img=img/255\n",
    "    img=np.expand_dims(img,[0])\n",
    "    answer=model.predict(img)\n",
    "    y_class = answer.argmax(axis=-1)\n",
    "    y = \" \".join(str(x) for x in y_class)\n",
    "    y = int(y)\n",
    "    res = labels[y]\n",
    "    return res"
   ]
  },
  {
   "cell_type": "code",
   "execution_count": 19,
   "id": "673ef9c8",
   "metadata": {
    "execution": {
     "iopub.execute_input": "2021-11-02T04:31:26.958120Z",
     "iopub.status.busy": "2021-11-02T04:31:26.957452Z",
     "iopub.status.idle": "2021-11-02T04:31:28.178053Z",
     "shell.execute_reply": "2021-11-02T04:31:28.178677Z",
     "shell.execute_reply.started": "2021-10-21T13:12:26.543016Z"
    },
    "papermill": {
     "duration": 1.419014,
     "end_time": "2021-11-02T04:31:28.178859",
     "exception": false,
     "start_time": "2021-11-02T04:31:26.759845",
     "status": "completed"
    },
    "tags": []
   },
   "outputs": [],
   "source": [
    "img = output('D:/Saikat Sheet/Datasets/Fruit_Vegetable/test/cabbage/Image_1.jpg')\n",
    "img"
   ]
  },
  {
   "cell_type": "code",
   "execution_count": 20,
   "id": "99a97c02",
   "metadata": {
    "execution": {
     "iopub.execute_input": "2021-11-02T04:31:28.576710Z",
     "iopub.status.busy": "2021-11-02T04:31:28.576072Z",
     "iopub.status.idle": "2021-11-02T04:31:28.888152Z",
     "shell.execute_reply": "2021-11-02T04:31:28.888651Z",
     "shell.execute_reply.started": "2021-10-21T13:15:16.791784Z"
    },
    "papermill": {
     "duration": 0.513092,
     "end_time": "2021-11-02T04:31:28.888839",
     "exception": false,
     "start_time": "2021-11-02T04:31:28.375747",
     "status": "completed"
    },
    "tags": []
   },
   "outputs": [],
   "source": [
    "model.save('Fruit_Vegetable_Recognition_System_Model.h5')"
   ]
  },
  {
   "cell_type": "markdown",
   "id": "2144000c",
   "metadata": {
    "papermill": {
     "duration": 0.195092,
     "end_time": "2021-11-02T04:31:29.281451",
     "exception": false,
     "start_time": "2021-11-02T04:31:29.086359",
     "status": "completed"
    },
    "tags": []
   },
   "source": [
    "# End"
   ]
  },
  {
   "cell_type": "markdown",
   "id": "55a4ab73",
   "metadata": {},
   "source": []
  },
  {
   "cell_type": "markdown",
   "id": "43eee18a",
   "metadata": {},
   "source": []
  },
  {
   "cell_type": "markdown",
   "id": "5907e907",
   "metadata": {},
   "source": []
  }
 ],
 "metadata": {
  "kernelspec": {
   "display_name": "Python 3",
   "language": "python",
   "name": "python3"
  },
  "language_info": {
   "codemirror_mode": {
    "name": "ipython",
    "version": 3
   },
   "file_extension": ".py",
   "mimetype": "text/x-python",
   "name": "python",
   "nbconvert_exporter": "python",
   "pygments_lexer": "ipython3",
   "version": "3.11.9"
  },
  "papermill": {
   "default_parameters": {},
   "duration": 1124.050414,
   "end_time": "2021-11-02T04:31:32.927130",
   "environment_variables": {},
   "exception": null,
   "input_path": "__notebook__.ipynb",
   "output_path": "__notebook__.ipynb",
   "parameters": {},
   "start_time": "2021-11-02T04:12:48.876716",
   "version": "2.3.3"
  }
 },
 "nbformat": 4,
 "nbformat_minor": 5
}
